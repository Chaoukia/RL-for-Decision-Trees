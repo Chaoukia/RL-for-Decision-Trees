{
 "cells": [
  {
   "cell_type": "markdown",
   "metadata": {},
   "source": [
    "# Concept Drift"
   ]
  },
  {
   "cell_type": "markdown",
   "metadata": {},
   "source": [
    "In this noetbook, we work with synthetic data in a concept drift setting. Concretely, we have two labeling concepts $c_1$ and $c_2$ and we choose which concept to use with a propability $p_t$ that evolves with time. We can formulate the labeling concept at time $t$ as $c = X_tc_1 + \\left( 1 - X_t\\right)c_2$\n",
    "\n",
    "Where $X_t \\sim Bernoulli\\left( p_t\\right)$ and $p_t = \\frac{e^{-\\left(t - t_0\\right)/\\tau}}{1 + e^{-\\left(t - t_0\\right)/\\tau}}$; $t_0$ controls when the shift from $c_1$ to $c_2$ practically starts while $\\tau$ controls the rate of this shift."
   ]
  },
  {
   "cell_type": "code",
   "execution_count": 1,
   "metadata": {},
   "outputs": [],
   "source": [
    "from env import *\n",
    "from agent import *\n",
    "import matplotlib.pyplot as plt\n",
    "import re\n",
    "import tensorboard as tb\n",
    "from skmultiflow.trees import HoeffdingTreeClassifier\n",
    "from skmultiflow.evaluation import EvaluatePrequential\n",
    "from skmultiflow.data.base_stream import Stream\n",
    "from skmultiflow.utils import check_random_state\n",
    "%matplotlib inline\n",
    "\n",
    "iteration = lambda s : int(re.split('_', s[:-4])[-1])"
   ]
  },
  {
   "cell_type": "code",
   "execution_count": 2,
   "metadata": {},
   "outputs": [],
   "source": [
    "categories = [3, 5, 3, 3, 3, 5, 3, 5, 3, 3, 4, 3, 3, 3, 5]\n",
    "d = len(categories)\n",
    "labels = [0, 1]\n",
    "actions = range(d + len(labels))\n",
    "\n",
    "# Feature variables are independent and uniform\n",
    "generator = dict([(i, np.full(categories[i], 1/categories[i])) for i in range(len(categories))])\n",
    "\n",
    "# Each query action costs -1\n",
    "rewards_queries = dict([(i, -.5) for i in range(len(categories))])\n",
    "\n",
    "# Define the one-hot encoder.\n",
    "encoder = Encoder(categories=categories)"
   ]
  },
  {
   "cell_type": "markdown",
   "metadata": {},
   "source": [
    "## DQN"
   ]
  },
  {
   "cell_type": "markdown",
   "metadata": {},
   "source": [
    "Let's define the environment and the DQN agent."
   ]
  },
  {
   "cell_type": "code",
   "execution_count": 3,
   "metadata": {},
   "outputs": [],
   "source": [
    "env = EnvironmentDrift(generator, rewards_queries, encoder=encoder, r_plus=5, r_minus=-5, split_1=4, split_2=3)\n",
    "agent = DQN(categories=categories)"
   ]
  },
  {
   "cell_type": "markdown",
   "metadata": {},
   "source": [
    "Run training with a prequential evaluation of the model for which we save the data in a tensorboard event."
   ]
  },
  {
   "cell_type": "code",
   "execution_count": 4,
   "metadata": {
    "scrolled": true
   },
   "outputs": [
    {
     "name": "stdout",
     "output_type": "stream",
     "text": [
      "Episode : 0, epsilon : 1.000\n",
      "Episode : 1000, epsilon : 0.970\n",
      "Episode : 2000, epsilon : 0.942\n",
      "Episode : 3000, epsilon : 0.914\n",
      "Episode : 4000, epsilon : 0.887\n",
      "Episode : 5000, epsilon : 0.861\n",
      "Episode : 6000, epsilon : 0.835\n",
      "Episode : 7000, epsilon : 0.811\n",
      "Episode : 8000, epsilon : 0.787\n",
      "Episode : 9000, epsilon : 0.763\n",
      "Episode : 10000, epsilon : 0.741\n",
      "Episode : 11000, epsilon : 0.719\n",
      "Episode : 12000, epsilon : 0.698\n",
      "Episode : 13000, epsilon : 0.677\n",
      "Episode : 14000, epsilon : 0.657\n",
      "Episode : 15000, epsilon : 0.638\n",
      "Episode : 16000, epsilon : 0.619\n",
      "Episode : 17000, epsilon : 0.601\n",
      "Episode : 18000, epsilon : 0.583\n",
      "Episode : 19000, epsilon : 0.566\n",
      "Episode : 20000, epsilon : 0.549\n",
      "Episode : 21000, epsilon : 0.533\n",
      "Episode : 22000, epsilon : 0.517\n",
      "Episode : 23000, epsilon : 0.502\n",
      "Episode : 24000, epsilon : 0.487\n",
      "Episode : 25000, epsilon : 0.472\n",
      "Episode : 26000, epsilon : 0.458\n",
      "Episode : 27000, epsilon : 0.445\n",
      "Episode : 28000, epsilon : 0.432\n",
      "Episode : 29000, epsilon : 0.419\n",
      "Episode : 30000, epsilon : 0.407\n",
      "Episode : 31000, epsilon : 0.395\n",
      "Episode : 32000, epsilon : 0.383\n",
      "Episode : 33000, epsilon : 0.372\n",
      "Episode : 34000, epsilon : 0.361\n",
      "Episode : 35000, epsilon : 0.350\n",
      "Episode : 36000, epsilon : 0.340\n",
      "Episode : 37000, epsilon : 0.330\n",
      "Episode : 38000, epsilon : 0.320\n",
      "Episode : 39000, epsilon : 0.310\n",
      "Episode : 40000, epsilon : 0.301\n",
      "Episode : 41000, epsilon : 0.292\n",
      "Episode : 42000, epsilon : 0.284\n",
      "Episode : 43000, epsilon : 0.275\n",
      "Episode : 44000, epsilon : 0.267\n",
      "Episode : 45000, epsilon : 0.259\n",
      "Episode : 46000, epsilon : 0.252\n",
      "Episode : 47000, epsilon : 0.244\n",
      "Episode : 48000, epsilon : 0.237\n",
      "Episode : 49000, epsilon : 0.230\n",
      "Episode : 50000, epsilon : 0.223\n",
      "Episode : 51000, epsilon : 0.217\n",
      "Episode : 52000, epsilon : 0.210\n",
      "Episode : 53000, epsilon : 0.204\n",
      "Episode : 54000, epsilon : 0.198\n",
      "Episode : 55000, epsilon : 0.192\n",
      "Episode : 56000, epsilon : 0.186\n",
      "Episode : 57000, epsilon : 0.181\n",
      "Episode : 58000, epsilon : 0.176\n",
      "Episode : 59000, epsilon : 0.170\n",
      "Episode : 60000, epsilon : 0.165\n",
      "Episode : 61000, epsilon : 0.160\n",
      "Episode : 62000, epsilon : 0.156\n",
      "Episode : 63000, epsilon : 0.151\n",
      "Episode : 64000, epsilon : 0.147\n",
      "Episode : 65000, epsilon : 0.142\n",
      "Episode : 66000, epsilon : 0.138\n",
      "Episode : 67000, epsilon : 0.134\n",
      "Episode : 68000, epsilon : 0.130\n",
      "Episode : 69000, epsilon : 0.126\n",
      "Episode : 70000, epsilon : 0.123\n",
      "Episode : 71000, epsilon : 0.119\n",
      "Episode : 72000, epsilon : 0.115\n",
      "Episode : 73000, epsilon : 0.112\n",
      "Episode : 74000, epsilon : 0.109\n",
      "Episode : 75000, epsilon : 0.105\n",
      "Episode : 76000, epsilon : 0.102\n",
      "Episode : 77000, epsilon : 0.099\n",
      "Episode : 78000, epsilon : 0.096\n",
      "Episode : 79000, epsilon : 0.094\n",
      "Episode : 80000, epsilon : 0.091\n",
      "Episode : 81000, epsilon : 0.088\n",
      "Episode : 82000, epsilon : 0.086\n",
      "Episode : 83000, epsilon : 0.083\n",
      "Episode : 84000, epsilon : 0.081\n",
      "Episode : 85000, epsilon : 0.078\n",
      "Episode : 86000, epsilon : 0.076\n",
      "Episode : 87000, epsilon : 0.074\n",
      "Episode : 88000, epsilon : 0.071\n",
      "Episode : 89000, epsilon : 0.069\n",
      "Episode : 90000, epsilon : 0.067\n",
      "Episode : 91000, epsilon : 0.065\n",
      "Episode : 92000, epsilon : 0.063\n",
      "Episode : 93000, epsilon : 0.062\n",
      "Episode : 94000, epsilon : 0.060\n",
      "Episode : 95000, epsilon : 0.058\n",
      "Episode : 96000, epsilon : 0.056\n",
      "Episode : 97000, epsilon : 0.055\n",
      "Episode : 98000, epsilon : 0.053\n",
      "Episode : 99000, epsilon : 0.051\n"
     ]
    }
   ],
   "source": [
    "agent.train(env, n_episodes=100000, n_pretrain=512, n_learn=5, max_tau=50, decay_rate=2e-6, lr=5e-4, batch_size=256, \n",
    "            log_dir='runs_drift_dqn/', path_save='drift_dqn/', prequential=True)"
   ]
  },
  {
   "cell_type": "markdown",
   "metadata": {},
   "source": [
    "We would like to load the prequential evaluation results from our tensorboard event, hence, we first need to upload our tensorboard directory to Tensorboard.dev by running the following command: ```tensorboard dev upload --logdir runs_drift_dqn/```\n",
    "\n",
    "See https://www.tensorflow.org/tensorboard/dataframe_api for more details."
   ]
  },
  {
   "cell_type": "code",
   "execution_count": 16,
   "metadata": {},
   "outputs": [],
   "source": [
    "# Replace experiment_id with the corresponding id value\n",
    "experiment_id = \"fdEdqocRQvGpXptvsYJdgg\"\n",
    "experiment = tb.data.experimental.ExperimentFromDev(experiment_id)\n",
    "df_dqn = experiment.get_scalars()"
   ]
  },
  {
   "cell_type": "markdown",
   "metadata": {},
   "source": [
    "Let's take a look at the evolution of the loss function. We cleary see a bump due to unexpected experiences encountered by the agent because of the shift that occurs to the labeling concept."
   ]
  },
  {
   "cell_type": "code",
   "execution_count": 9,
   "metadata": {},
   "outputs": [
    {
     "data": {
      "image/png": "[encoded data removed]",
      "text/plain": [
       "<Figure size 576x288 with 1 Axes>"
      ]
     },
     "metadata": {
      "needs_background": "light"
     },
     "output_type": "display_data"
    }
   ],
   "source": [
    "plt.figure(figsize=(8, 4))\n",
    "plt.plot(np.linspace(0, int(1e5), df_dqn[df_dqn.tag == 'Loss'].shape[0]), df_dqn[df_dqn.tag == 'Loss'].value)\n",
    "plt.xlabel(\"iteration\", fontsize=14)\n",
    "plt.ylabel(\"loss\", fontsize=14)\n",
    "plt.savefig(\"../fig/dqn_loss_concept_drift.png\")\n",
    "plt.show()"
   ]
  },
  {
   "cell_type": "markdown",
   "metadata": {},
   "source": [
    "We will see the accuracy evaluated in a prequential setting for later, when we compare it with that of Advantage Actor-Critic."
   ]
  },
  {
   "cell_type": "markdown",
   "metadata": {},
   "source": [
    "## Advantage Actor-Critic"
   ]
  },
  {
   "cell_type": "markdown",
   "metadata": {},
   "source": [
    "Let's define the environment and the Advantage Actor-Critic agent."
   ]
  },
  {
   "cell_type": "code",
   "execution_count": 10,
   "metadata": {},
   "outputs": [],
   "source": [
    "env = EnvironmentDrift(generator, rewards_queries, encoder=encoder, r_plus=5, r_minus=-10, split_1=4, split_2=3)\n",
    "agent = ActorCritic(categories=categories, min_queries=4)"
   ]
  },
  {
   "cell_type": "code",
   "execution_count": 4,
   "metadata": {
    "scrolled": true
   },
   "outputs": [
    {
     "name": "stdout",
     "output_type": "stream",
     "text": [
      "Episode : 0\n",
      "Episode : 1000\n",
      "Episode : 2000\n",
      "Episode : 3000\n",
      "Episode : 4000\n",
      "Episode : 5000\n",
      "Episode : 6000\n",
      "Episode : 7000\n",
      "Episode : 8000\n",
      "Episode : 9000\n",
      "Episode : 10000\n",
      "Episode : 11000\n",
      "Episode : 12000\n",
      "Episode : 13000\n",
      "Episode : 14000\n",
      "Episode : 15000\n",
      "Episode : 16000\n",
      "Episode : 17000\n",
      "Episode : 18000\n",
      "Episode : 19000\n",
      "Episode : 20000\n",
      "Episode : 21000\n",
      "Episode : 22000\n",
      "Episode : 23000\n",
      "Episode : 24000\n",
      "Episode : 25000\n",
      "Episode : 26000\n",
      "Episode : 27000\n",
      "Episode : 28000\n",
      "Episode : 29000\n",
      "Episode : 30000\n",
      "Episode : 31000\n",
      "Episode : 32000\n",
      "Episode : 33000\n",
      "Episode : 34000\n",
      "Episode : 35000\n",
      "Episode : 36000\n",
      "Episode : 37000\n",
      "Episode : 38000\n",
      "Episode : 39000\n",
      "Episode : 40000\n",
      "Episode : 41000\n",
      "Episode : 42000\n",
      "Episode : 43000\n",
      "Episode : 44000\n",
      "Episode : 45000\n",
      "Episode : 46000\n",
      "Episode : 47000\n",
      "Episode : 48000\n",
      "Episode : 49000\n",
      "Episode : 50000\n",
      "Episode : 51000\n",
      "Episode : 52000\n",
      "Episode : 53000\n",
      "Episode : 54000\n",
      "Episode : 55000\n",
      "Episode : 56000\n",
      "Episode : 57000\n",
      "Episode : 58000\n",
      "Episode : 59000\n",
      "Episode : 60000\n",
      "Episode : 61000\n",
      "Episode : 62000\n",
      "Episode : 63000\n",
      "Episode : 64000\n",
      "Episode : 65000\n",
      "Episode : 66000\n",
      "Episode : 67000\n",
      "Episode : 68000\n",
      "Episode : 69000\n",
      "Episode : 70000\n",
      "Episode : 71000\n",
      "Episode : 72000\n",
      "Episode : 73000\n",
      "Episode : 74000\n",
      "Episode : 75000\n",
      "Episode : 76000\n",
      "Episode : 77000\n",
      "Episode : 78000\n",
      "Episode : 79000\n",
      "Episode : 80000\n",
      "Episode : 81000\n",
      "Episode : 82000\n",
      "Episode : 83000\n",
      "Episode : 84000\n",
      "Episode : 85000\n",
      "Episode : 86000\n",
      "Episode : 87000\n",
      "Episode : 88000\n",
      "Episode : 89000\n",
      "Episode : 90000\n",
      "Episode : 91000\n",
      "Episode : 92000\n",
      "Episode : 93000\n",
      "Episode : 94000\n",
      "Episode : 95000\n",
      "Episode : 96000\n",
      "Episode : 97000\n",
      "Episode : 98000\n",
      "Episode : 99000\n"
     ]
    }
   ],
   "source": [
    "agent.train(env, n_episodes=100000, lr=3e-4, lambd=1, max_step=30, log_dir='runs_drift_ac/', \n",
    "            path_save='drift_ac/', prequential=True)"
   ]
  },
  {
   "cell_type": "code",
   "execution_count": 17,
   "metadata": {},
   "outputs": [],
   "source": [
    "experiment_id = \"aUxo7oCBTmyHwGKGMBnLFA\"\n",
    "experiment = tb.data.experimental.ExperimentFromDev(experiment_id)\n",
    "df_ac = experiment.get_scalars()"
   ]
  },
  {
   "cell_type": "code",
   "execution_count": 14,
   "metadata": {},
   "outputs": [
    {
     "data": {
      "image/png": "[encoded data removed]",
      "text/plain": [
       "<Figure size 576x288 with 1 Axes>"
      ]
     },
     "metadata": {
      "needs_background": "light"
     },
     "output_type": "display_data"
    }
   ],
   "source": [
    "plt.figure(figsize=(8, 4))\n",
    "plt.plot(np.linspace(0, int(1e5), df_ac[df_ac.tag == 'Episode/accuracy'].shape[0]), df_dqn[df_dqn.tag == 'accuracy'].value, label='dqn')\n",
    "plt.plot(np.linspace(0, int(1e5), df_ac[df_ac.tag == 'Episode/accuracy'].shape[0]), df_ac[df_ac.tag == 'Episode/accuracy'].value, label='actor_critic')\n",
    "plt.legend(fontsize=14)\n",
    "plt.xlabel(\"iteration\", fontsize=14)\n",
    "plt.ylabel(\"accuracy\", fontsize=14)\n",
    "# plt.savefig('../fig/concept_drift.png')\n",
    "plt.show()"
   ]
  },
  {
   "cell_type": "code",
   "execution_count": 4,
   "metadata": {},
   "outputs": [],
   "source": [
    "class StreamGenerator(Stream):\n",
    "    \n",
    "    episode = 0\n",
    "    \n",
    "    def __init__(self, random_state=None, categories=[3, 5, 3, 3, 3, 5, 3, 5, 3, 3, 4, 3, 3, 3, 5], labels=[0, 1], split_1=4, split_2=4):\n",
    "        \n",
    "        super().__init__()\n",
    "        \n",
    "        self.random_state = random_state\n",
    "        self._random_state = None  # This is the actual random_state object used internally\n",
    "        self.categories = categories\n",
    "        self.n_cat_features = len(categories)\n",
    "        self.generator = dict([(i, np.full(categories[i], 1/categories[i])) for i in range(len(categories))])\n",
    "        self.n_targets = 1\n",
    "        self.split_1 = split_1\n",
    "        self.split_2 = split_2\n",
    "        self.n_classes = len(labels)\n",
    "        self.n_features = self.n_cat_features\n",
    "        self.name = \"Generator\"\n",
    "        self.feature_names = [\"att_num_\" + str(i) for i in range(self.n_features)]\n",
    "        self.target_names = [\"target_0\"]\n",
    "        self.target_values = [i for i in range(self.n_classes)]\n",
    "        self._prepare_for_use()\n",
    "        \n",
    "    def _prepare_for_use(self):\n",
    "        \n",
    "        self._random_state = check_random_state(self.random_state)\n",
    "            \n",
    "    def concept_1(self, data_point):\n",
    "        \"\"\"\n",
    "        Description\n",
    "        --------------\n",
    "        Define the first labeling concept.\n",
    "        \n",
    "        Parameters\n",
    "        --------------\n",
    "        data_point : List of length d, the data point to label.\n",
    "        \n",
    "        Returns\n",
    "        --------------\n",
    "        Int in {0, 1}, the label of the data point.\n",
    "        \"\"\"\n",
    "        \n",
    "        label = True\n",
    "        i = 0\n",
    "        while label and i <= self.n_features-1:\n",
    "            if data_point[i] >= self.split_1:\n",
    "                label = False\n",
    "                \n",
    "            i += 1\n",
    "            \n",
    "        return label\n",
    "    \n",
    "    def concept_2(self, data_point):\n",
    "        \"\"\"\n",
    "        Description\n",
    "        --------------\n",
    "        Define the second labeling concept.\n",
    "        \n",
    "        Parameters\n",
    "        --------------\n",
    "        data_point : List of length d, the data point to label.\n",
    "        \n",
    "        Returns\n",
    "        --------------\n",
    "        Int in {0, 1}, the label of the data point.\n",
    "        \"\"\"\n",
    "        \n",
    "        label = True\n",
    "        i = 0\n",
    "        while label and i <= self.n_features-1:\n",
    "            if data_point[i] == self.split_2:\n",
    "                label = False\n",
    "                \n",
    "            i += 1\n",
    "            \n",
    "        return label\n",
    "\n",
    "    def next_sample(self, batch_size=1):\n",
    "           \n",
    "        data_point = [np.random.choice(self.categories[i], p=self.generator[i]) for i in range(self.n_features)]\n",
    "        b = np.random.binomial(1, 1/(1 + np.exp(-(self.episode - 5e4)/2e3)))\n",
    "        if b == 0:\n",
    "            label = self.concept_1(data_point)\n",
    "            \n",
    "        else:\n",
    "            label = self.concept_2(data_point)\n",
    "            \n",
    "        StreamGenerator.episode += 1\n",
    "        self.current_sample_x, self.current_sample_y = np.array([data_point]), np.array([int(label)])\n",
    "        return self.current_sample_x, self.current_sample_y\n",
    "        \n",
    "        "
   ]
  },
  {
   "cell_type": "code",
   "execution_count": 5,
   "metadata": {},
   "outputs": [],
   "source": [
    "stream = StreamGenerator(categories=categories, split_1=4, split_2=3)"
   ]
  },
  {
   "cell_type": "code",
   "execution_count": 6,
   "metadata": {},
   "outputs": [],
   "source": [
    "ht = HoeffdingTreeClassifier()"
   ]
  },
  {
   "cell_type": "code",
   "execution_count": 7,
   "metadata": {
    "scrolled": true
   },
   "outputs": [
    {
     "name": "stdout",
     "output_type": "stream",
     "text": [
      "iteration: 0\n",
      "iteration: 1000\n",
      "iteration: 2000\n",
      "iteration: 3000\n",
      "iteration: 4000\n",
      "iteration: 5000\n",
      "iteration: 6000\n",
      "iteration: 7000\n",
      "iteration: 8000\n",
      "iteration: 9000\n",
      "iteration: 10000\n",
      "iteration: 11000\n",
      "iteration: 12000\n",
      "iteration: 13000\n",
      "iteration: 14000\n",
      "iteration: 15000\n",
      "iteration: 16000\n",
      "iteration: 17000\n",
      "iteration: 18000\n",
      "iteration: 19000\n",
      "iteration: 20000\n",
      "iteration: 21000\n",
      "iteration: 22000\n",
      "iteration: 23000\n",
      "iteration: 24000\n",
      "iteration: 25000\n",
      "iteration: 26000\n",
      "iteration: 27000\n",
      "iteration: 28000\n",
      "iteration: 29000\n",
      "iteration: 30000\n",
      "iteration: 31000\n",
      "iteration: 32000\n",
      "iteration: 33000\n",
      "iteration: 34000\n",
      "iteration: 35000\n",
      "iteration: 36000\n",
      "iteration: 37000\n",
      "iteration: 38000\n",
      "iteration: 39000\n",
      "iteration: 40000\n",
      "iteration: 41000\n",
      "iteration: 42000\n",
      "iteration: 43000\n",
      "iteration: 44000\n",
      "iteration: 45000\n",
      "iteration: 46000\n",
      "iteration: 47000\n",
      "iteration: 48000\n",
      "iteration: 49000\n",
      "iteration: 50000\n",
      "iteration: 51000\n",
      "iteration: 52000\n",
      "iteration: 53000\n",
      "iteration: 54000\n",
      "iteration: 55000\n",
      "iteration: 56000\n",
      "iteration: 57000\n",
      "iteration: 58000\n",
      "iteration: 59000\n",
      "iteration: 60000\n",
      "iteration: 61000\n",
      "iteration: 62000\n",
      "iteration: 63000\n",
      "iteration: 64000\n",
      "iteration: 65000\n",
      "iteration: 66000\n",
      "iteration: 67000\n",
      "iteration: 68000\n",
      "iteration: 69000\n",
      "iteration: 70000\n",
      "iteration: 71000\n",
      "iteration: 72000\n",
      "iteration: 73000\n",
      "iteration: 74000\n",
      "iteration: 75000\n",
      "iteration: 76000\n",
      "iteration: 77000\n",
      "iteration: 78000\n",
      "iteration: 79000\n",
      "iteration: 80000\n",
      "iteration: 81000\n",
      "iteration: 82000\n",
      "iteration: 83000\n",
      "iteration: 84000\n",
      "iteration: 85000\n",
      "iteration: 86000\n",
      "iteration: 87000\n",
      "iteration: 88000\n",
      "iteration: 89000\n",
      "iteration: 90000\n",
      "iteration: 91000\n",
      "iteration: 92000\n",
      "iteration: 93000\n",
      "iteration: 94000\n",
      "iteration: 95000\n",
      "iteration: 96000\n",
      "iteration: 97000\n",
      "iteration: 98000\n",
      "iteration: 99000\n"
     ]
    }
   ],
   "source": [
    "accuracies_deque = deque(maxlen = 1000)\n",
    "accuracies_list = []\n",
    "for i in range(100000):\n",
    "    current_sample_x, current_sample_y = stream.next_sample()\n",
    "    label_pred = ht.predict(current_sample_x)\n",
    "    accuracies_deque.append(label_pred[0] == current_sample_y[0])\n",
    "    ht.fit(current_sample_x, current_sample_y)\n",
    "    if len(accuracies_deque) == 1000:\n",
    "        accuracies_list.append(np.mean(accuracies_deque))\n",
    "        \n",
    "    if i%1000 == 0:\n",
    "        print('iteration: %d' %i)"
   ]
  },
  {
   "cell_type": "code",
   "execution_count": 19,
   "metadata": {},
   "outputs": [
    {
     "name": "stderr",
     "output_type": "stream",
     "text": [
      "/home/otmane/anaconda3/lib/python3.7/site-packages/ipykernel_launcher.py:8: UserWarning: Creating legend with loc=\"best\" can be slow with large amounts of data.\n",
      "  \n",
      "/home/otmane/anaconda3/lib/python3.7/site-packages/IPython/core/pylabtools.py:132: UserWarning: Creating legend with loc=\"best\" can be slow with large amounts of data.\n",
      "  fig.canvas.print_figure(bytes_io, **kw)\n"
     ]
    },
    {
     "data": {
      "image/png": "[encoded data removed]",
      "text/plain": [
       "<Figure size 576x288 with 1 Axes>"
      ]
     },
     "metadata": {
      "needs_background": "light"
     },
     "output_type": "display_data"
    }
   ],
   "source": [
    "plt.figure(figsize=(8, 4))\n",
    "plt.plot(np.linspace(0, int(1e5), df_ac[df_ac.tag == 'Episode/accuracy'].shape[0]), df_dqn[df_dqn.tag == 'accuracy'].value, label='dqn')\n",
    "plt.plot(np.linspace(0, int(1e5), df_ac[df_ac.tag == 'Episode/accuracy'].shape[0]), df_ac[df_ac.tag == 'Episode/accuracy'].value, label='actor_critic')\n",
    "plt.plot(np.linspace(0, int(1e5), df_ac[df_ac.tag == 'Episode/accuracy'].shape[0]), accuracies_list, label='ht')\n",
    "plt.legend(fontsize=14)\n",
    "plt.xlabel(\"iteration\", fontsize=14)\n",
    "plt.ylabel(\"accuracy\", fontsize=14)\n",
    "plt.savefig('../fig/concept_drift.png')\n",
    "plt.show()"
   ]
  },
  {
   "cell_type": "code",
   "execution_count": null,
   "metadata": {},
   "outputs": [],
   "source": []
  },
  {
   "cell_type": "code",
   "execution_count": null,
   "metadata": {},
   "outputs": [],
   "source": []
  }
 ],
 "metadata": {
  "kernelspec": {
   "display_name": "Python 3",
   "language": "python",
   "name": "python3"
  },
  "language_info": {
   "codemirror_mode": {
    "name": "ipython",
    "version": 3
   },
   "file_extension": ".py",
   "mimetype": "text/x-python",
   "name": "python",
   "nbconvert_exporter": "python",
   "pygments_lexer": "ipython3",
   "version": "3.7.6"
  }
 },
 "nbformat": 4,
 "nbformat_minor": 4
}
