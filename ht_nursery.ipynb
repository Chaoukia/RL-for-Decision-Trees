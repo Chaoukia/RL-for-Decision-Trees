{
 "cells": [
  {
   "cell_type": "code",
   "execution_count": 1,
   "metadata": {},
   "outputs": [],
   "source": [
    "import numpy as np\n",
    "import matplotlib.pyplot as plt\n",
    "from env import *\n",
    "from agent import *\n",
    "from time import time\n",
    "%matplotlib inline\n",
    "import pandas as pd\n",
    "from skmultiflow.data import FileStream\n",
    "from skmultiflow.trees import HoeffdingTreeClassifier\n",
    "from skmultiflow.evaluation import EvaluatePrequential, EvaluateHoldout"
   ]
  },
  {
   "cell_type": "code",
   "execution_count": 2,
   "metadata": {},
   "outputs": [],
   "source": [
    "data = np.genfromtxt('../data/nursery.data', delimiter=',', dtype=str)\n",
    "data = data[data[:, -1] != 'recommend', :]\n",
    "np.random.seed(0)\n",
    "np.random.shuffle(data)\n",
    "# data_train, data_test = data[:10000, :], data[10000:, :]\n",
    "data_train, data_test = data[:1000, :], data[10000:, :]"
   ]
  },
  {
   "cell_type": "code",
   "execution_count": 3,
   "metadata": {},
   "outputs": [],
   "source": [
    "categories = [len(set(data_train[:, j])) for j in range(data_train.shape[1]-1)]\n",
    "rewards_queries = dict([(i, -.5) for i in range(len(categories))])"
   ]
  },
  {
   "cell_type": "code",
   "execution_count": 4,
   "metadata": {},
   "outputs": [],
   "source": [
    "env = EnvironmentReal(data_train, rewards_queries, r_plus=5, r_minus=-10)"
   ]
  },
  {
   "cell_type": "code",
   "execution_count": 5,
   "metadata": {},
   "outputs": [
    {
     "data": {
      "text/plain": [
       "{0: {'great_pret': 0, 'pretentious': 1, 'usual': 2},\n",
       " 1: {'critical': 0,\n",
       "  'improper': 1,\n",
       "  'less_proper': 2,\n",
       "  'proper': 3,\n",
       "  'very_crit': 4},\n",
       " 2: {'complete': 0, 'completed': 1, 'foster': 2, 'incomplete': 3},\n",
       " 3: {'1': 0, '2': 1, '3': 2, 'more': 3},\n",
       " 4: {'convenient': 0, 'critical': 1, 'less_conv': 2},\n",
       " 5: {'convenient': 0, 'inconv': 1},\n",
       " 6: {'nonprob': 0, 'problematic': 1, 'slightly_prob': 2},\n",
       " 7: {'not_recom': 0, 'priority': 1, 'recommended': 2},\n",
       " 8: {'not_recom': 0, 'priority': 1, 'spec_prior': 2, 'very_recom': 3}}"
      ]
     },
     "execution_count": 5,
     "metadata": {},
     "output_type": "execute_result"
    }
   ],
   "source": [
    "env.maps"
   ]
  },
  {
   "cell_type": "code",
   "execution_count": 6,
   "metadata": {},
   "outputs": [],
   "source": [
    "data_x, data_y = np.empty_like(data_train[:, :-1], dtype=np.int), np.empty_like(data_train[:, -1], dtype=np.int)\n",
    "for i in range(len(data_y)):\n",
    "    a, b = env.preprocess(data_train[i, :])\n",
    "    data_x[i, :], data_y[i] = np.array(a, dtype=np.int), int(b)\n",
    "    "
   ]
  },
  {
   "cell_type": "code",
   "execution_count": 7,
   "metadata": {},
   "outputs": [],
   "source": [
    "ht = HoeffdingTreeClassifier()"
   ]
  },
  {
   "cell_type": "code",
   "execution_count": 8,
   "metadata": {},
   "outputs": [
    {
     "name": "stdout",
     "output_type": "stream",
     "text": [
      "0.5132889747619629\n"
     ]
    }
   ],
   "source": [
    "start_time = time()\n",
    "ht.fit(data_x, data_y)\n",
    "print(time() - start_time)"
   ]
  },
  {
   "cell_type": "code",
   "execution_count": 9,
   "metadata": {},
   "outputs": [],
   "source": [
    "data_x, data_y = np.empty_like(data_test[:, :-1], dtype=np.int), np.empty_like(data_test[:, -1], dtype=np.int)\n",
    "for i in range(len(data_y)):\n",
    "    a, b = env.preprocess(data_test[i, :])\n",
    "    data_x[i, :], data_y[i] = np.array(a, dtype=np.int), int(b)\n",
    "    "
   ]
  },
  {
   "cell_type": "code",
   "execution_count": 10,
   "metadata": {},
   "outputs": [],
   "source": [
    "predictions = ht.predict(data_x)"
   ]
  },
  {
   "cell_type": "code",
   "execution_count": 11,
   "metadata": {},
   "outputs": [
    {
     "data": {
      "text/plain": [
       "0.8404327248140635"
      ]
     },
     "execution_count": 11,
     "metadata": {},
     "output_type": "execute_result"
    }
   ],
   "source": [
    "(predictions == data_y).sum()/len(predictions)"
   ]
  },
  {
   "cell_type": "code",
   "execution_count": 24,
   "metadata": {},
   "outputs": [
    {
     "data": {
      "text/plain": [
       "'Att (3) <= 1.730 and Att (3) <= 0.450 and Att (6) <= 7.270 and Att (2) <= 3.450 | class: 1\\nAtt (3) <= 1.730 and Att (3) <= 0.450 and Att (6) <= 7.270 and Att (2) > 3.450 and Att (1) <= 3.270 and Att (6) <= 0.180 | class: 1\\nAtt (3) <= 1.730 and Att (3) <= 0.450 and Att (6) <= 7.270 and Att (2) > 3.450 and Att (1) <= 3.270 and Att (6) > 0.180 | class: 0\\nAtt (3) <= 1.730 and Att (3) <= 0.450 and Att (6) <= 7.270 and Att (2) > 3.450 and Att (1) > 3.270 | class: 0\\nAtt (3) <= 1.730 and Att (3) <= 0.450 and Att (6) > 7.270 and Att (0) <= 2.360 | class: 0\\nAtt (3) <= 1.730 and Att (3) <= 0.450 and Att (6) > 7.270 and Att (0) > 2.360 | class: 0\\nAtt (3) <= 1.730 and Att (3) > 0.450 and Att (0) <= 1.090 and Att (7) <= 5.000 | class: 1\\nAtt (3) <= 1.730 and Att (3) > 0.450 and Att (0) <= 1.090 and Att (7) > 5.000 | class: 1\\nAtt (3) <= 1.730 and Att (3) > 0.450 and Att (0) > 1.090 and Att (0) <= 5.270 and Att (2) <= 5.180 | class: 1\\nAtt (3) <= 1.730 and Att (3) > 0.450 and Att (0) > 1.090 and Att (0) <= 5.270 and Att (2) > 5.180 and Att (1) <= 4.910 | class: 1\\nAtt (3) <= 1.730 and Att (3) > 0.450 and Att (0) > 1.090 and Att (0) <= 5.270 and Att (2) > 5.180 and Att (1) > 4.910 | class: 1\\nAtt (3) <= 1.730 and Att (3) > 0.450 and Att (0) > 1.090 and Att (0) > 5.270 | class: 1\\nAtt (3) > 1.730 | class: 0\\n'"
      ]
     },
     "execution_count": 24,
     "metadata": {},
     "output_type": "execute_result"
    }
   ],
   "source": [
    "ht.get_rules_description()"
   ]
  },
  {
   "cell_type": "code",
   "execution_count": null,
   "metadata": {},
   "outputs": [],
   "source": []
  },
  {
   "cell_type": "code",
   "execution_count": null,
   "metadata": {},
   "outputs": [],
   "source": []
  },
  {
   "cell_type": "code",
   "execution_count": null,
   "metadata": {},
   "outputs": [],
   "source": []
  },
  {
   "cell_type": "code",
   "execution_count": null,
   "metadata": {},
   "outputs": [],
   "source": []
  },
  {
   "cell_type": "code",
   "execution_count": null,
   "metadata": {},
   "outputs": [],
   "source": []
  },
  {
   "cell_type": "code",
   "execution_count": null,
   "metadata": {},
   "outputs": [],
   "source": []
  },
  {
   "cell_type": "code",
   "execution_count": null,
   "metadata": {},
   "outputs": [],
   "source": []
  }
 ],
 "metadata": {
  "kernelspec": {
   "display_name": "Python 3",
   "language": "python",
   "name": "python3"
  },
  "language_info": {
   "codemirror_mode": {
    "name": "ipython",
    "version": 3
   },
   "file_extension": ".py",
   "mimetype": "text/x-python",
   "name": "python",
   "nbconvert_exporter": "python",
   "pygments_lexer": "ipython3",
   "version": "3.7.6"
  }
 },
 "nbformat": 4,
 "nbformat_minor": 4
}
