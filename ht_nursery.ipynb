{
 "cells": [
  {
   "cell_type": "code",
   "execution_count": 1,
   "metadata": {},
   "outputs": [],
   "source": [
    "import numpy as np\n",
    "import matplotlib.pyplot as plt\n",
    "%matplotlib inline\n",
    "import pandas as pd\n",
    "from skmultiflow.data import FileStream\n",
    "from skmultiflow.trees import HoeffdingTreeClassifier\n",
    "from skmultiflow.evaluation import EvaluatePrequential, EvaluateHoldout"
   ]
  },
  {
   "cell_type": "code",
   "execution_count": 13,
   "metadata": {},
   "outputs": [],
   "source": [
    "data = pd.read_csv('data/electricity-normalized.csv').values\n",
    "np.random.seed(0)\n",
    "np.random.shuffle(data)\n",
    "data_train, data_test = data[:35000, :], data[35000:, :]"
   ]
  },
  {
   "cell_type": "code",
   "execution_count": 14,
   "metadata": {},
   "outputs": [],
   "source": [
    "# data_stream = FileStream(\"data/electricity-normalized.csv\")"
   ]
  },
  {
   "cell_type": "code",
   "execution_count": 15,
   "metadata": {},
   "outputs": [],
   "source": [
    "ht = HoeffdingTreeClassifier()"
   ]
  },
  {
   "cell_type": "code",
   "execution_count": 16,
   "metadata": {},
   "outputs": [],
   "source": [
    "# evaluator = EvaluateHoldout(test_size=10000)\n",
    "# evaluator.evaluate(stream=data_stream, model=ht)"
   ]
  },
  {
   "cell_type": "code",
   "execution_count": 17,
   "metadata": {},
   "outputs": [
    {
     "data": {
      "text/plain": [
       "HoeffdingTreeClassifier(binary_split=False, grace_period=200,\n",
       "                        leaf_prediction='nba', max_byte_size=33554432,\n",
       "                        memory_estimate_period=1000000, nb_threshold=0,\n",
       "                        no_preprune=False, nominal_attributes=None,\n",
       "                        remove_poor_atts=False, split_confidence=1e-07,\n",
       "                        split_criterion='info_gain', stop_mem_management=False,\n",
       "                        tie_threshold=0.05)"
      ]
     },
     "execution_count": 17,
     "metadata": {},
     "output_type": "execute_result"
    }
   ],
   "source": [
    "ht.fit(data_train[:, :-1], data_train[:, -1])"
   ]
  },
  {
   "cell_type": "code",
   "execution_count": 18,
   "metadata": {},
   "outputs": [],
   "source": [
    "predictions = ht.predict(data_test[:, :-1])"
   ]
  },
  {
   "cell_type": "code",
   "execution_count": 19,
   "metadata": {},
   "outputs": [
    {
     "data": {
      "text/plain": [
       "0.7259503491078355"
      ]
     },
     "execution_count": 19,
     "metadata": {},
     "output_type": "execute_result"
    }
   ],
   "source": [
    "(predictions == data_test[:, -1]).sum()/len(predictions)"
   ]
  },
  {
   "cell_type": "code",
   "execution_count": 24,
   "metadata": {},
   "outputs": [
    {
     "data": {
      "text/plain": [
       "'Att (3) <= 1.730 and Att (3) <= 0.450 and Att (6) <= 7.270 and Att (2) <= 3.450 | class: 1\\nAtt (3) <= 1.730 and Att (3) <= 0.450 and Att (6) <= 7.270 and Att (2) > 3.450 and Att (1) <= 3.270 and Att (6) <= 0.180 | class: 1\\nAtt (3) <= 1.730 and Att (3) <= 0.450 and Att (6) <= 7.270 and Att (2) > 3.450 and Att (1) <= 3.270 and Att (6) > 0.180 | class: 0\\nAtt (3) <= 1.730 and Att (3) <= 0.450 and Att (6) <= 7.270 and Att (2) > 3.450 and Att (1) > 3.270 | class: 0\\nAtt (3) <= 1.730 and Att (3) <= 0.450 and Att (6) > 7.270 and Att (0) <= 2.360 | class: 0\\nAtt (3) <= 1.730 and Att (3) <= 0.450 and Att (6) > 7.270 and Att (0) > 2.360 | class: 0\\nAtt (3) <= 1.730 and Att (3) > 0.450 and Att (0) <= 1.090 and Att (7) <= 5.000 | class: 1\\nAtt (3) <= 1.730 and Att (3) > 0.450 and Att (0) <= 1.090 and Att (7) > 5.000 | class: 1\\nAtt (3) <= 1.730 and Att (3) > 0.450 and Att (0) > 1.090 and Att (0) <= 5.270 and Att (2) <= 5.180 | class: 1\\nAtt (3) <= 1.730 and Att (3) > 0.450 and Att (0) > 1.090 and Att (0) <= 5.270 and Att (2) > 5.180 and Att (1) <= 4.910 | class: 1\\nAtt (3) <= 1.730 and Att (3) > 0.450 and Att (0) > 1.090 and Att (0) <= 5.270 and Att (2) > 5.180 and Att (1) > 4.910 | class: 1\\nAtt (3) <= 1.730 and Att (3) > 0.450 and Att (0) > 1.090 and Att (0) > 5.270 | class: 1\\nAtt (3) > 1.730 | class: 0\\n'"
      ]
     },
     "execution_count": 24,
     "metadata": {},
     "output_type": "execute_result"
    }
   ],
   "source": [
    "ht.get_rules_description()"
   ]
  },
  {
   "cell_type": "code",
   "execution_count": null,
   "metadata": {},
   "outputs": [],
   "source": []
  },
  {
   "cell_type": "code",
   "execution_count": 12,
   "metadata": {},
   "outputs": [],
   "source": [
    "data = pd.read_csv(\"data/electricity-normalized.csv\")"
   ]
  },
  {
   "cell_type": "code",
   "execution_count": 13,
   "metadata": {},
   "outputs": [
    {
     "data": {
      "text/plain": [
       "Index(['date', 'day', 'period', 'nswprice', 'nswdemand', 'vicprice',\n",
       "       'vicdemand', 'transfer', 'class'],\n",
       "      dtype='object')"
      ]
     },
     "execution_count": 13,
     "metadata": {},
     "output_type": "execute_result"
    }
   ],
   "source": [
    "data.columns"
   ]
  },
  {
   "cell_type": "code",
   "execution_count": 14,
   "metadata": {},
   "outputs": [
    {
     "data": {
      "text/plain": [
       "0          UP\n",
       "1          UP\n",
       "2          UP\n",
       "3          UP\n",
       "4        DOWN\n",
       "         ... \n",
       "45307    DOWN\n",
       "45308    DOWN\n",
       "45309    DOWN\n",
       "45310      UP\n",
       "45311    DOWN\n",
       "Name: class, Length: 45312, dtype: object"
      ]
     },
     "execution_count": 14,
     "metadata": {},
     "output_type": "execute_result"
    }
   ],
   "source": [
    "data['class']"
   ]
  },
  {
   "cell_type": "code",
   "execution_count": 15,
   "metadata": {},
   "outputs": [],
   "source": [
    "for col in data.columns[:-1]:\n",
    "    data[col] = pd.factorize(pd.cut(data[col], bins=20))[0]\n"
   ]
  },
  {
   "cell_type": "code",
   "execution_count": 16,
   "metadata": {},
   "outputs": [],
   "source": [
    "data['class'] = pd.factorize(data['class'])[0]"
   ]
  },
  {
   "cell_type": "code",
   "execution_count": 17,
   "metadata": {},
   "outputs": [],
   "source": [
    "data.to_csv('data/electricity-normalized.csv', index=False)"
   ]
  },
  {
   "cell_type": "code",
   "execution_count": 11,
   "metadata": {},
   "outputs": [
    {
     "data": {
      "text/plain": [
       "(45312, 9)"
      ]
     },
     "execution_count": 11,
     "metadata": {},
     "output_type": "execute_result"
    }
   ],
   "source": [
    "data.shape"
   ]
  },
  {
   "cell_type": "code",
   "execution_count": null,
   "metadata": {},
   "outputs": [],
   "source": []
  }
 ],
 "metadata": {
  "kernelspec": {
   "display_name": "Python 3",
   "language": "python",
   "name": "python3"
  },
  "language_info": {
   "codemirror_mode": {
    "name": "ipython",
    "version": 3
   },
   "file_extension": ".py",
   "mimetype": "text/x-python",
   "name": "python",
   "nbconvert_exporter": "python",
   "pygments_lexer": "ipython3",
   "version": "3.7.6"
  }
 },
 "nbformat": 4,
 "nbformat_minor": 4
}
